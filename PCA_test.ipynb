{
 "cells": [
  {
   "cell_type": "code",
   "execution_count": 1,
   "id": "0438d169-0870-4561-847e-cf5efab2c88b",
   "metadata": {
    "tags": []
   },
   "outputs": [],
   "source": [
    "! pip3 install --upgrade --quiet google-cloud-aiplatform \\\n",
    "                                        google-cloud-storage \\\n",
    "                                        \"numpy<2\" \\\n",
    "                                        google-cloud-pipeline-components"
   ]
  },
  {
   "cell_type": "code",
   "execution_count": 2,
   "id": "d462e2e3-507b-46a0-8a51-87be3975fb6f",
   "metadata": {
    "tags": []
   },
   "outputs": [],
   "source": [
    "PROJECT_ID = !(gcloud config get-value core/project)\n",
    "PROJECT_ID = PROJECT_ID[0]\n",
    "\n",
    "LOCATION = \"us-central1\"\n",
    "LOCATION = \"us-central1\"  # @param {type:\"string\"}"
   ]
  },
  {
   "cell_type": "code",
   "execution_count": 3,
   "id": "9256b5f5-a5ca-4cdc-bd7a-e24885a6590a",
   "metadata": {
    "tags": []
   },
   "outputs": [],
   "source": [
    "BUCKET_URI = f\"gs://{PROJECT_ID}-unique\"  # @param {type:\"string\"}\n",
    "PIPELINE_ROOT = f\"{BUCKET_URI}/pca_pipeline\""
   ]
  },
  {
   "cell_type": "code",
   "execution_count": 4,
   "id": "8aad89e4-b7bc-4089-9aac-880f745990be",
   "metadata": {
    "tags": []
   },
   "outputs": [
    {
     "name": "stdout",
     "output_type": "stream",
     "text": [
      "Creating gs://my-project-0004-346516-unique/...\n",
      "ServiceException: 409 A Cloud Storage bucket named 'my-project-0004-346516-unique' already exists. Try another name. Bucket names must be globally unique across all Google Cloud projects, including those outside of your organization.\n"
     ]
    }
   ],
   "source": [
    "! gsutil mb -l {LOCATION} -p {PROJECT_ID} {BUCKET_URI}"
   ]
  },
  {
   "cell_type": "code",
   "execution_count": 5,
   "id": "8f6cdf16-3a3c-4856-adcb-bf2780061a61",
   "metadata": {
    "tags": []
   },
   "outputs": [
    {
     "name": "stdout",
     "output_type": "stream",
     "text": [
      "PIPELINE_ROOT: gs://my-project-0004-346516-unique/pca_pipeline\n"
     ]
    }
   ],
   "source": [
    "PIPELINE_ROOT = f\"{BUCKET_URI}/pca_pipeline\"  # This is where all pipeline artifacts are sent. You'll need to ensure the bucket is created ahead of time\n",
    "PIPELINE_ROOT\n",
    "print(f\"PIPELINE_ROOT: {PIPELINE_ROOT}\")"
   ]
  },
  {
   "cell_type": "code",
   "execution_count": 6,
   "id": "2454d827-480a-4ae2-a55e-d18d9f3a51ae",
   "metadata": {
    "tags": []
   },
   "outputs": [],
   "source": [
    "SERVICE_ACCOUNT = \"[your-service-account]\"  # @param {type:\"string\"}"
   ]
  },
  {
   "cell_type": "code",
   "execution_count": 7,
   "id": "1d7a2e6a-65cf-4311-8605-e9706e671029",
   "metadata": {
    "tags": []
   },
   "outputs": [
    {
     "name": "stdout",
     "output_type": "stream",
     "text": [
      "Service Account: 255766800726-compute@developer.gserviceaccount.com\n"
     ]
    }
   ],
   "source": [
    "import sys\n",
    "\n",
    "IS_COLAB = \"google.colab\" in sys.modules\n",
    "if (\n",
    "    SERVICE_ACCOUNT == \"\"\n",
    "    or SERVICE_ACCOUNT is None\n",
    "    or SERVICE_ACCOUNT == \"[your-service-account]\"\n",
    "):\n",
    "    # Get your service account from gcloud\n",
    "    if not IS_COLAB:\n",
    "        shell_output = !gcloud auth list 2>/dev/null\n",
    "        SERVICE_ACCOUNT = shell_output[2].replace(\"*\", \"\").strip()\n",
    "\n",
    "    if IS_COLAB:\n",
    "        shell_output = ! gcloud projects describe  $PROJECT_ID\n",
    "        project_number = shell_output[-1].split(\":\")[1].strip().replace(\"'\", \"\")\n",
    "        SERVICE_ACCOUNT = f\"{project_number}-compute@developer.gserviceaccount.com\"\n",
    "\n",
    "    print(\"Service Account:\", SERVICE_ACCOUNT)"
   ]
  },
  {
   "cell_type": "code",
   "execution_count": 8,
   "id": "29ced4c9-a7f1-4dd2-9559-2daf96222388",
   "metadata": {
    "tags": []
   },
   "outputs": [
    {
     "name": "stdout",
     "output_type": "stream",
     "text": [
      "No changes made to gs://my-project-0004-346516-unique/\n",
      "No changes made to gs://my-project-0004-346516-unique/\n"
     ]
    }
   ],
   "source": [
    "! gsutil iam ch serviceAccount:{SERVICE_ACCOUNT}:roles/storage.objectCreator $BUCKET_URI\n",
    "\n",
    "! gsutil iam ch serviceAccount:{SERVICE_ACCOUNT}:roles/storage.objectViewer $BUCKET_URI"
   ]
  },
  {
   "cell_type": "code",
   "execution_count": 9,
   "id": "2b4af430-93a8-4900-abd0-188ab2b37dbe",
   "metadata": {
    "tags": []
   },
   "outputs": [],
   "source": [
    "from typing import NamedTuple\n",
    "\n",
    "import kfp\n",
    "from google.cloud import aiplatform\n",
    "from kfp import compiler, dsl\n",
    "from kfp.dsl import (Artifact, Dataset, Input, InputPath, Model, Output,\n",
    "                     OutputPath, component)"
   ]
  },
  {
   "cell_type": "code",
   "execution_count": 10,
   "id": "6e0cab53-4c08-45ed-b98e-2a105c95023c",
   "metadata": {
    "tags": []
   },
   "outputs": [],
   "source": [
    "aiplatform.init(project=PROJECT_ID, staging_bucket=BUCKET_URI)"
   ]
  },
  {
   "cell_type": "code",
   "execution_count": 11,
   "id": "d1cac2a2-9b1d-4114-9c79-399067f7ddd3",
   "metadata": {
    "tags": []
   },
   "outputs": [
    {
     "ename": "SyntaxError",
     "evalue": "invalid syntax (1755134344.py, line 15)",
     "output_type": "error",
     "traceback": [
      "\u001b[0;36m  Cell \u001b[0;32mIn[11], line 15\u001b[0;36m\u001b[0m\n\u001b[0;31m    def perform_pca(  Output[Dataset],metrics: Output[Metrics], n_components: int = 2):\u001b[0m\n\u001b[0m                            ^\u001b[0m\n\u001b[0;31mSyntaxError\u001b[0m\u001b[0;31m:\u001b[0m invalid syntax\n"
     ]
    }
   ],
   "source": [
    "import kfp\n",
    "from kfp.dsl import component\n",
    "from kfp.dsl import Output, Metrics\n",
    "from typing import NamedTuple\n",
    "import os\n",
    "\n",
    "@component(\n",
    "    packages_to_install=[\n",
    "        \"scikit-learn==1.0.2\",\n",
    "        \"pandas==1.3.5\",\n",
    "        \"matplotlib==3.5.1\",\n",
    "        \"numpy<2\"\n",
    "    ],\n",
    "    base_image=\"python:3.9\")\n",
    "# def perform_pca(  Output[Dataset],metrics: Output[Metrics], n_components: int = 2):\n",
    "def perform_pca( data: Output[Dataset],metrics: Output[Metrics], n_components: int = 2):\n",
    "    \n",
    "    \"\"\"\n",
    "    Performs PCA on the Iris dataset, saves the transformed data,\n",
    "    and generates a scree plot.\n",
    "\n",
    "    Args:\n",
    "        n_components (int): The number of principal components to retain.\n",
    "\n",
    "    Returns:\n",
    "        None\n",
    "    \"\"\"\n",
    "    import pandas as pd\n",
    "    import numpy as np\n",
    "    import matplotlib.pyplot as plt\n",
    "    from sklearn.decomposition import PCA\n",
    "    from sklearn.datasets import load_iris\n",
    "    from sklearn.preprocessing import StandardScaler\n",
    "    import os\n",
    "\n",
    "    # Load the Iris dataset\n",
    "    iris = load_iris()\n",
    "    X = iris.data\n",
    "    y = iris.target\n",
    "\n",
    "    # Standardize the data\n",
    "    scaler = StandardScaler()\n",
    "    X_scaled = scaler.fit_transform(X)\n",
    "\n",
    "    # Perform PCA\n",
    "    pca = PCA(n_components=n_components)\n",
    "    X_reduced = pca.fit_transform(X_scaled)\n",
    "\n",
    "    # Create a Pandas DataFrame for the transformed data\n",
    "    df = pd.DataFrame(X_reduced, columns=[f'PC{i+1}' for i in range(n_components)])\n",
    "    df['target'] = y  # Add the target variable for potential analysis\n",
    "\n",
    "    # Ensure the output directory exists\n",
    "    os.makedirs(data.path, exist_ok=True)\n",
    "\n",
    "    # Save the transformed data to a CSV file\n",
    "    output_path = os.path.join(data.path, \"pca_transformed_data.csv\")\n",
    "    df.to_csv(output_path, index=False)\n",
    "\n",
    "    # Explained variance ratio\n",
    "    explained_variance = pca.explained_variance_ratio_\n",
    "    print(\"Explained Variance Ratio:\", explained_variance)\n",
    "\n",
    "    # Log metrics\n",
    "    metrics.log_metric(\"explained_variance_ratio_PC1\", explained_variance[0])\n",
    "    if n_components > 1:\n",
    "        metrics.log_metric(\"explained_variance_ratio_PC2\", explained_variance[1])\n",
    "\n",
    "    # Cumulative explained variance\n",
    "    cum_var_exp = np.cumsum(explained_variance)\n",
    "\n",
    "    # Scree plot\n",
    "    plt.figure(figsize=(8, 6))\n",
    "    plt.plot(range(1, len(explained_variance) + 1), explained_variance, 'ro-', linewidth=2)\n",
    "    plt.title('Scree Plot')\n",
    "    plt.xlabel('Principal Component')\n",
    "    plt.ylabel('Variance Explained')\n",
    "    plt.savefig(os.path.join(data.path, \"scree_plot.png\"))  # Save the plot to a file\n",
    "    plt.close()\n",
    "\n",
    "    return\n"
   ]
  },
  {
   "cell_type": "code",
   "execution_count": null,
   "id": "86afcf99-4cc8-484d-b5cb-55717d633e1c",
   "metadata": {},
   "outputs": [],
   "source": [
    "@dsl.pipeline(\n",
    "    name=\"pca-pipeline\",\n",
    "    description=\"A pipeline that performs PCA on the Iris dataset\"\n",
    ")\n",
    "def pca_pipeline():\n",
    "    pca_task = perform_pca(\n",
    "        n_components=2\n",
    "    )\n",
    "    pca_task.set_caching_options(enable_caching=False)"
   ]
  },
  {
   "cell_type": "code",
   "execution_count": null,
   "id": "8a533f17-5d1d-4bff-bb4b-4fe4e3e3118f",
   "metadata": {
    "tags": []
   },
   "outputs": [],
   "source": [
    "compiler.Compiler().compile(\n",
    "    pipeline_func=pca_pipeline, package_path=\"pca_pipeline.yaml\"\n",
    ")"
   ]
  },
  {
   "cell_type": "code",
   "execution_count": null,
   "id": "ca8f2751-1261-4520-b4fe-db1c83d73e0e",
   "metadata": {
    "tags": []
   },
   "outputs": [],
   "source": [
    "job = aiplatform.PipelineJob(\n",
    "    display_name=\"pca-pipeline\",\n",
    "    template_path=\"pca_pipeline.yaml\",\n",
    "    pipeline_root=PIPELINE_ROOT,\n",
    ")\n",
    "\n",
    "job.run()"
   ]
  }
 ],
 "metadata": {
  "environment": {
   "kernel": "conda-base-py",
   "name": "workbench-notebooks.m125",
   "type": "gcloud",
   "uri": "us-docker.pkg.dev/deeplearning-platform-release/gcr.io/workbench-notebooks:m125"
  },
  "kernelspec": {
   "display_name": "Python 3 (ipykernel) (Local)",
   "language": "python",
   "name": "conda-base-py"
  },
  "language_info": {
   "codemirror_mode": {
    "name": "ipython",
    "version": 3
   },
   "file_extension": ".py",
   "mimetype": "text/x-python",
   "name": "python",
   "nbconvert_exporter": "python",
   "pygments_lexer": "ipython3",
   "version": "3.10.15"
  }
 },
 "nbformat": 4,
 "nbformat_minor": 5
}
